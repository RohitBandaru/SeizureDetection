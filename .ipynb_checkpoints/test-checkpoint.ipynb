{
 "cells": [
  {
   "cell_type": "code",
   "execution_count": 1,
   "metadata": {},
   "outputs": [],
   "source": [
    "import feature_extractor as fe \n",
    "from os import listdir\n",
    "import scipy.io as spio\n",
    "import numpy as np"
   ]
  },
  {
   "cell_type": "code",
   "execution_count": 2,
   "metadata": {},
   "outputs": [],
   "source": [
    "'''\n",
    "data: (m,n)\n",
    "'''\n",
    "def directory_data(path):\n",
    "\tdata = None\n",
    "\tfiles = listdir(path)\n",
    "\tprint(str(len(files))+\" number of points\")\n",
    "\tfor file in files:\n",
    "\t\tfile_data = spio.loadmat(path+file)[\"data\"]\n",
    "\t\tvec = fe.extract_feature(file_data)\n",
    "\t\tif data is None:\n",
    "\t\t\tdata = vec\n",
    "\t\telse:\n",
    "\t\t\tdata = np.vstack([data, vec])\n",
    "\treturn data"
   ]
  },
  {
   "cell_type": "code",
   "execution_count": 3,
   "metadata": {},
   "outputs": [],
   "source": [
    "def get_data(patient_number):\n",
    "\tictal_train = directory_data(\"data/patient_\"+str(patient_number)+\"/ictal train/\")\n",
    "\tnon_ictal_train = directory_data(\"data/patient_\"+str(patient_number)+\"/non-ictal train/\")\n",
    "\n",
    "\tm_ictal = ictal_train.shape[0]\n",
    "\tm_non_ictal = ictal_train.shape[0]\n",
    "\n",
    "\tdata = np.vstack([ictal_train, non_ictal_train])\n",
    "\tlabels = np.hstack([np.ones((m_ictal)),np.zeros((m_non_ictal))])\n",
    "\n",
    "\t# shuffle data\n",
    "\trand_idx = np.random.permutation(labels.shape[0])\n",
    "\n",
    "\tlabels = labels[rand_idx]\n",
    "\tdata  = data[rand_idx,:]\n",
    "\n",
    "\treturn data, labels"
   ]
  },
  {
   "cell_type": "code",
   "execution_count": 4,
   "metadata": {},
   "outputs": [],
   "source": [
    "def train_val_split(data,labels,split):\n",
    "\tm = data.shape[0]\n",
    "\ttrain_m = int(m*split)\n",
    "\tval_m = m - train_m\n",
    "\n",
    "\ttrain_data = data[:train_m,:]\n",
    "\ttrain_labels = labels[:train_m]\n",
    "\n",
    "\tval_data = data[train_m:,:]\n",
    "\tval_labels = labels[train_m:]\n",
    "\n",
    "\treturn train_data, train_labels, val_data, val_labels"
   ]
  },
  {
   "cell_type": "code",
   "execution_count": null,
   "metadata": {},
   "outputs": [
    {
     "name": "stdout",
     "output_type": "stream",
     "text": [
      "218 number of points\n",
      "600 number of points\n"
     ]
    }
   ],
   "source": [
    "data, labels = get_data(1)\n",
    "\n",
    "train_data, train_labels, val_data, val_labels = train_val_split(data, labels, .7)"
   ]
  },
  {
   "cell_type": "code",
   "execution_count": null,
   "metadata": {},
   "outputs": [],
   "source": [
    "train_data, train_labels, val_data, val_labels = train_val_split(data, labels, .7)\n",
    "\n",
    "print(train_data.shape)\n",
    "print(train_labels.shape)\n",
    "print(val_data.shape)\n",
    "print(val_labels.shape)\n",
    "print(val_data[1,:])\n",
    "from sklearn.svm import SVC\n",
    "clf = SVC()\n",
    "clf.fit(train_data, train_labels)\n",
    "y_pred = clf.predict(val_data)\n",
    "\n",
    "from sklearn.metrics import accuracy_score\n",
    "print(y_pred)\n",
    "print(accuracy_score(y_pred, val_labels))"
   ]
  },
  {
   "cell_type": "code",
   "execution_count": null,
   "metadata": {},
   "outputs": [],
   "source": []
  },
  {
   "cell_type": "code",
   "execution_count": null,
   "metadata": {},
   "outputs": [],
   "source": []
  }
 ],
 "metadata": {
  "kernelspec": {
   "display_name": "Python 3",
   "language": "python",
   "name": "python3"
  },
  "language_info": {
   "codemirror_mode": {
    "name": "ipython",
    "version": 3
   },
   "file_extension": ".py",
   "mimetype": "text/x-python",
   "name": "python",
   "nbconvert_exporter": "python",
   "pygments_lexer": "ipython3",
   "version": "3.6.5"
  }
 },
 "nbformat": 4,
 "nbformat_minor": 2
}
